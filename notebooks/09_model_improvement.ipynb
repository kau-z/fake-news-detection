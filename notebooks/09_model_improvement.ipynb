{
 "cells": [
  {
   "cell_type": "code",
   "execution_count": 1,
   "id": "b44e906d-5a0f-4fdb-a089-fcda18b2a1e7",
   "metadata": {},
   "outputs": [],
   "source": [
    "import numpy as np\n",
    "import pandas as pd\n",
    "import matplotlib.pyplot as plt\n",
    "import seaborn as sns\n",
    "import joblib\n",
    "\n",
    "from sklearn.model_selection import train_test_split\n",
    "from sklearn.metrics import accuracy_score, precision_score, recall_score, f1_score\n",
    "\n",
    "import tensorflow as tf\n",
    "from tensorflow.keras.models import Sequential\n",
    "from tensorflow.keras.layers import Embedding, LSTM, Dense, Dropout, Bidirectional\n",
    "from tensorflow.keras.optimizers import Adam\n",
    "from tensorflow.keras.preprocessing.sequence import pad_sequences"
   ]
  },
  {
   "cell_type": "code",
   "execution_count": 2,
   "id": "b7da3352-feef-4645-93ce-e03cdc6422f7",
   "metadata": {},
   "outputs": [
    {
     "name": "stdout",
     "output_type": "stream",
     "text": [
      "Train shape: (35918, 300) Test shape: (8980, 300)\n"
     ]
    }
   ],
   "source": [
    "# Load preprocessed dataset\n",
    "df = pd.read_csv(\"../data/processed/cleaned_fake_news.csv\")\n",
    "\n",
    "X = df[\"content\"].fillna(\"\")\n",
    "y = df[\"label\"]\n",
    "\n",
    "X_train, X_test, y_train, y_test = train_test_split(\n",
    "    X, y, test_size=0.2, stratify=y, random_state=42\n",
    ")\n",
    "\n",
    "# Load tokenizer (already saved earlier in preprocessing notebook)\n",
    "tokenizer = joblib.load(\"../models/tokenizer.pkl\")\n",
    "\n",
    "MAX_LEN = 300\n",
    "X_train_seq = tokenizer.texts_to_sequences(X_train)\n",
    "X_test_seq = tokenizer.texts_to_sequences(X_test)\n",
    "\n",
    "X_train_pad = pad_sequences(X_train_seq, maxlen=MAX_LEN, padding=\"post\")\n",
    "X_test_pad = pad_sequences(X_test_seq, maxlen=MAX_LEN, padding=\"post\")\n",
    "\n",
    "print(\"Train shape:\", X_train_pad.shape, \"Test shape:\", X_test_pad.shape)\n"
   ]
  },
  {
   "cell_type": "code",
   "execution_count": 3,
   "id": "1e21e43a-d09f-4b2e-af38-418fe9e65ada",
   "metadata": {},
   "outputs": [],
   "source": [
    "def create_lstm_model(units=128, dropout=0.3, lr=0.001, bidirectional=False):\n",
    "    model = Sequential()\n",
    "    model.add(Embedding(input_dim=len(tokenizer.word_index)+1, \n",
    "                        output_dim=100, \n",
    "                        input_length=MAX_LEN))\n",
    "    \n",
    "    if bidirectional:\n",
    "        model.add(Bidirectional(LSTM(units, return_sequences=False)))\n",
    "    else:\n",
    "        model.add(LSTM(units, return_sequences=False))\n",
    "    \n",
    "    model.add(Dropout(dropout))\n",
    "    model.add(Dense(64, activation=\"relu\"))\n",
    "    model.add(Dropout(dropout))\n",
    "    model.add(Dense(1, activation=\"sigmoid\"))\n",
    "    \n",
    "    model.compile(\n",
    "        loss=\"binary_crossentropy\", \n",
    "        optimizer=Adam(learning_rate=lr), \n",
    "        metrics=[\"accuracy\"]\n",
    "    )\n",
    "    return model\n"
   ]
  },
  {
   "cell_type": "code",
   "execution_count": 4,
   "id": "ab28ef24-7b4b-4dc9-9659-5e486a0cf323",
   "metadata": {},
   "outputs": [],
   "source": [
    "experiments = [\n",
    "    {\"units\": 64,  \"dropout\": 0.3, \"lr\": 0.001, \"bidirectional\": False},\n",
    "    {\"units\": 128, \"dropout\": 0.3, \"lr\": 0.001, \"bidirectional\": False},\n",
    "    {\"units\": 128, \"dropout\": 0.5, \"lr\": 0.001, \"bidirectional\": False},\n",
    "    {\"units\": 128, \"dropout\": 0.3, \"lr\": 0.0005, \"bidirectional\": True},\n",
    "    {\"units\": 256, \"dropout\": 0.3, \"lr\": 0.001, \"bidirectional\": True},\n",
    "]"
   ]
  },
  {
   "cell_type": "code",
   "execution_count": 5,
   "id": "64bef7be-6eab-4cbd-8393-19a4d2fff587",
   "metadata": {},
   "outputs": [
    {
     "name": "stdout",
     "output_type": "stream",
     "text": [
      "\n",
      "🚀 Training Experiment 1 with params: {'units': 64, 'dropout': 0.3, 'lr': 0.001, 'bidirectional': False}\n"
     ]
    },
    {
     "name": "stderr",
     "output_type": "stream",
     "text": [
      "C:\\Users\\kausalya\\anaconda3\\Lib\\site-packages\\keras\\src\\layers\\core\\embedding.py:97: UserWarning: Argument `input_length` is deprecated. Just remove it.\n",
      "  warnings.warn(\n"
     ]
    },
    {
     "name": "stdout",
     "output_type": "stream",
     "text": [
      "Epoch 1/3\n",
      "\u001b[1m281/281\u001b[0m \u001b[32m━━━━━━━━━━━━━━━━━━━━\u001b[0m\u001b[37m\u001b[0m \u001b[1m104s\u001b[0m 352ms/step - accuracy: 0.6307 - loss: 0.5749 - val_accuracy: 0.6576 - val_loss: 0.4496\n",
      "Epoch 2/3\n",
      "\u001b[1m281/281\u001b[0m \u001b[32m━━━━━━━━━━━━━━━━━━━━\u001b[0m\u001b[37m\u001b[0m \u001b[1m96s\u001b[0m 341ms/step - accuracy: 0.9432 - loss: 0.1884 - val_accuracy: 0.9419 - val_loss: 0.1824\n",
      "Epoch 3/3\n",
      "\u001b[1m281/281\u001b[0m \u001b[32m━━━━━━━━━━━━━━━━━━━━\u001b[0m\u001b[37m\u001b[0m \u001b[1m95s\u001b[0m 338ms/step - accuracy: 0.9533 - loss: 0.1784 - val_accuracy: 0.9424 - val_loss: 0.2004\n",
      "\u001b[1m281/281\u001b[0m \u001b[32m━━━━━━━━━━━━━━━━━━━━\u001b[0m\u001b[37m\u001b[0m \u001b[1m12s\u001b[0m 40ms/step\n",
      "\n",
      "🚀 Training Experiment 2 with params: {'units': 128, 'dropout': 0.3, 'lr': 0.001, 'bidirectional': False}\n",
      "Epoch 1/3\n"
     ]
    },
    {
     "name": "stderr",
     "output_type": "stream",
     "text": [
      "C:\\Users\\kausalya\\anaconda3\\Lib\\site-packages\\keras\\src\\layers\\core\\embedding.py:97: UserWarning: Argument `input_length` is deprecated. Just remove it.\n",
      "  warnings.warn(\n"
     ]
    },
    {
     "name": "stdout",
     "output_type": "stream",
     "text": [
      "\u001b[1m281/281\u001b[0m \u001b[32m━━━━━━━━━━━━━━━━━━━━\u001b[0m\u001b[37m\u001b[0m \u001b[1m192s\u001b[0m 667ms/step - accuracy: 0.8461 - loss: 0.3798 - val_accuracy: 0.9121 - val_loss: 0.2739\n",
      "Epoch 2/3\n",
      "\u001b[1m281/281\u001b[0m \u001b[32m━━━━━━━━━━━━━━━━━━━━\u001b[0m\u001b[37m\u001b[0m \u001b[1m180s\u001b[0m 641ms/step - accuracy: 0.8991 - loss: 0.3012 - val_accuracy: 0.6412 - val_loss: 0.5761\n",
      "Epoch 3/3\n",
      "\u001b[1m281/281\u001b[0m \u001b[32m━━━━━━━━━━━━━━━━━━━━\u001b[0m\u001b[37m\u001b[0m \u001b[1m180s\u001b[0m 642ms/step - accuracy: 0.7497 - loss: 0.4759 - val_accuracy: 0.9677 - val_loss: 0.1139\n",
      "\u001b[1m281/281\u001b[0m \u001b[32m━━━━━━━━━━━━━━━━━━━━\u001b[0m\u001b[37m\u001b[0m \u001b[1m17s\u001b[0m 60ms/step\n",
      "\n",
      "🚀 Training Experiment 3 with params: {'units': 128, 'dropout': 0.5, 'lr': 0.001, 'bidirectional': False}\n",
      "Epoch 1/3\n"
     ]
    },
    {
     "name": "stderr",
     "output_type": "stream",
     "text": [
      "C:\\Users\\kausalya\\anaconda3\\Lib\\site-packages\\keras\\src\\layers\\core\\embedding.py:97: UserWarning: Argument `input_length` is deprecated. Just remove it.\n",
      "  warnings.warn(\n"
     ]
    },
    {
     "name": "stdout",
     "output_type": "stream",
     "text": [
      "\u001b[1m281/281\u001b[0m \u001b[32m━━━━━━━━━━━━━━━━━━━━\u001b[0m\u001b[37m\u001b[0m \u001b[1m176s\u001b[0m 615ms/step - accuracy: 0.7774 - loss: 0.4610 - val_accuracy: 0.9460 - val_loss: 0.2180\n",
      "Epoch 2/3\n",
      "\u001b[1m281/281\u001b[0m \u001b[32m━━━━━━━━━━━━━━━━━━━━\u001b[0m\u001b[37m\u001b[0m \u001b[1m167s\u001b[0m 597ms/step - accuracy: 0.9520 - loss: 0.1941 - val_accuracy: 0.9744 - val_loss: 0.1076\n",
      "Epoch 3/3\n",
      "\u001b[1m281/281\u001b[0m \u001b[32m━━━━━━━━━━━━━━━━━━━━\u001b[0m\u001b[37m\u001b[0m \u001b[1m167s\u001b[0m 595ms/step - accuracy: 0.9513 - loss: 0.1903 - val_accuracy: 0.6105 - val_loss: 0.6466\n",
      "\u001b[1m281/281\u001b[0m \u001b[32m━━━━━━━━━━━━━━━━━━━━\u001b[0m\u001b[37m\u001b[0m \u001b[1m18s\u001b[0m 63ms/step\n",
      "\n",
      "🚀 Training Experiment 4 with params: {'units': 128, 'dropout': 0.3, 'lr': 0.0005, 'bidirectional': True}\n",
      "Epoch 1/3\n"
     ]
    },
    {
     "name": "stderr",
     "output_type": "stream",
     "text": [
      "C:\\Users\\kausalya\\anaconda3\\Lib\\site-packages\\keras\\src\\layers\\core\\embedding.py:97: UserWarning: Argument `input_length` is deprecated. Just remove it.\n",
      "  warnings.warn(\n"
     ]
    },
    {
     "name": "stdout",
     "output_type": "stream",
     "text": [
      "\u001b[1m281/281\u001b[0m \u001b[32m━━━━━━━━━━━━━━━━━━━━\u001b[0m\u001b[37m\u001b[0m \u001b[1m264s\u001b[0m 922ms/step - accuracy: 0.9338 - loss: 0.1537 - val_accuracy: 0.9904 - val_loss: 0.0327\n",
      "Epoch 2/3\n",
      "\u001b[1m281/281\u001b[0m \u001b[32m━━━━━━━━━━━━━━━━━━━━\u001b[0m\u001b[37m\u001b[0m \u001b[1m258s\u001b[0m 917ms/step - accuracy: 0.9968 - loss: 0.0130 - val_accuracy: 0.9915 - val_loss: 0.0289\n",
      "Epoch 3/3\n",
      "\u001b[1m281/281\u001b[0m \u001b[32m━━━━━━━━━━━━━━━━━━━━\u001b[0m\u001b[37m\u001b[0m \u001b[1m275s\u001b[0m 981ms/step - accuracy: 0.9991 - loss: 0.0040 - val_accuracy: 0.9962 - val_loss: 0.0156\n",
      "\u001b[1m281/281\u001b[0m \u001b[32m━━━━━━━━━━━━━━━━━━━━\u001b[0m\u001b[37m\u001b[0m \u001b[1m24s\u001b[0m 83ms/step\n",
      "\n",
      "🚀 Training Experiment 5 with params: {'units': 256, 'dropout': 0.3, 'lr': 0.001, 'bidirectional': True}\n",
      "Epoch 1/3\n"
     ]
    },
    {
     "name": "stderr",
     "output_type": "stream",
     "text": [
      "C:\\Users\\kausalya\\anaconda3\\Lib\\site-packages\\keras\\src\\layers\\core\\embedding.py:97: UserWarning: Argument `input_length` is deprecated. Just remove it.\n",
      "  warnings.warn(\n"
     ]
    },
    {
     "name": "stdout",
     "output_type": "stream",
     "text": [
      "\u001b[1m281/281\u001b[0m \u001b[32m━━━━━━━━━━━━━━━━━━━━\u001b[0m\u001b[37m\u001b[0m \u001b[1m631s\u001b[0m 2s/step - accuracy: 0.9645 - loss: 0.0869 - val_accuracy: 0.9942 - val_loss: 0.0214\n",
      "Epoch 2/3\n",
      "\u001b[1m281/281\u001b[0m \u001b[32m━━━━━━━━━━━━━━━━━━━━\u001b[0m\u001b[37m\u001b[0m \u001b[1m681s\u001b[0m 2s/step - accuracy: 0.9982 - loss: 0.0070 - val_accuracy: 0.9957 - val_loss: 0.0150\n",
      "Epoch 3/3\n",
      "\u001b[1m281/281\u001b[0m \u001b[32m━━━━━━━━━━━━━━━━━━━━\u001b[0m\u001b[37m\u001b[0m \u001b[1m710s\u001b[0m 3s/step - accuracy: 0.9992 - loss: 0.0029 - val_accuracy: 0.9924 - val_loss: 0.0326\n",
      "\u001b[1m281/281\u001b[0m \u001b[32m━━━━━━━━━━━━━━━━━━━━\u001b[0m\u001b[37m\u001b[0m \u001b[1m76s\u001b[0m 267ms/step \n"
     ]
    }
   ],
   "source": [
    "results = []\n",
    "\n",
    "for i, params in enumerate(experiments):\n",
    "    print(f\"\\n🚀 Training Experiment {i+1} with params: {params}\")\n",
    "    model = create_lstm_model(**params)\n",
    "    \n",
    "    history = model.fit(\n",
    "        X_train_pad, y_train,\n",
    "        validation_data=(X_test_pad, y_test),\n",
    "        epochs=3,\n",
    "        batch_size=128,\n",
    "        verbose=1\n",
    "    )\n",
    "    \n",
    "    # Predictions\n",
    "    y_pred_prob = model.predict(X_test_pad)\n",
    "    y_pred = (y_pred_prob > 0.5).astype(\"int32\")\n",
    "    \n",
    "    acc = accuracy_score(y_test, y_pred)\n",
    "    prec = precision_score(y_test, y_pred)\n",
    "    rec = recall_score(y_test, y_pred)\n",
    "    f1 = f1_score(y_test, y_pred)\n",
    "    \n",
    "    results.append({\n",
    "        \"Experiment\": i+1,\n",
    "        \"Params\": params,\n",
    "        \"Accuracy\": acc,\n",
    "        \"Precision\": prec,\n",
    "        \"Recall\": rec,\n",
    "        \"F1\": f1,\n",
    "        \"_model_obj\": model  # keep reference to trained model\n",
    "    })"
   ]
  },
  {
   "cell_type": "code",
   "execution_count": 6,
   "id": "53826f9d-c35f-404d-912e-2c7ff00a8801",
   "metadata": {},
   "outputs": [
    {
     "name": "stdout",
     "output_type": "stream",
     "text": [
      "   Experiment                                             Params  Accuracy  \\\n",
      "3           4  {'units': 128, 'dropout': 0.3, 'lr': 0.0005, '...  0.996214   \n",
      "4           5  {'units': 256, 'dropout': 0.3, 'lr': 0.001, 'b...  0.992428   \n",
      "1           2  {'units': 128, 'dropout': 0.3, 'lr': 0.001, 'b...  0.967706   \n",
      "0           1  {'units': 64, 'dropout': 0.3, 'lr': 0.001, 'bi...  0.942428   \n",
      "2           3  {'units': 128, 'dropout': 0.5, 'lr': 0.001, 'b...  0.610468   \n",
      "\n",
      "   Precision    Recall        F1  \n",
      "3   0.995325  0.997445  0.996384  \n",
      "4   0.996780  0.988714  0.992730  \n",
      "1   0.987605  0.950170  0.968526  \n",
      "0   0.941102  0.949319  0.945192  \n",
      "2   0.576579  0.960392  0.720562  \n"
     ]
    },
    {
     "name": "stderr",
     "output_type": "stream",
     "text": [
      "C:\\Users\\kausalya\\AppData\\Local\\Temp\\ipykernel_34584\\2272127209.py:5: FutureWarning: \n",
      "\n",
      "Passing `palette` without assigning `hue` is deprecated and will be removed in v0.14.0. Assign the `x` variable to `hue` and set `legend=False` for the same effect.\n",
      "\n",
      "  sns.barplot(data=results_df, x=\"Experiment\", y=\"F1\", palette=\"viridis\")\n"
     ]
    },
    {
     "data": {
      "image/png": "[encoded data removed]",
      "text/plain": [
       "<Figure size 1000x600 with 1 Axes>"
      ]
     },
     "metadata": {},
     "output_type": "display_data"
    }
   ],
   "source": [
    "results_df = pd.DataFrame([{k:v for k,v in r.items() if not k.startswith(\"_\")} for r in results])\n",
    "print(results_df.sort_values(\"F1\", ascending=False))\n",
    "\n",
    "plt.figure(figsize=(10,6))\n",
    "sns.barplot(data=results_df, x=\"Experiment\", y=\"F1\", palette=\"viridis\")\n",
    "plt.title(\"F1 Score across LSTM/BiLSTM Experiments\")\n",
    "plt.show()\n"
   ]
  },
  {
   "cell_type": "code",
   "execution_count": 8,
   "id": "8a98a190-ba34-4200-83b9-b79f63ef082c",
   "metadata": {},
   "outputs": [
    {
     "name": "stdout",
     "output_type": "stream",
     "text": [
      "🎉 Best experiment: 4 | F1 = 0.9963837481386939\n",
      "✅ Best model + metadata saved in ../models/final/\n"
     ]
    }
   ],
   "source": [
    "import os, json\n",
    "os.makedirs(\"../models/final\", exist_ok=True)\n",
    "\n",
    "# Find best F1\n",
    "best_idx = results_df[\"F1\"].idxmax()\n",
    "best = results[best_idx]\n",
    "print(\"🎉 Best experiment:\", best[\"Experiment\"], \"| F1 =\", best[\"F1\"])\n",
    "\n",
    "# Save model\n",
    "best_model = best[\"_model_obj\"]\n",
    "# Save in TF SavedModel format (recommended for Streamlit apps)\n",
    "best_path = \"../models/final/best_lstm_bilstm.keras\"\n",
    "best_model.save(best_path)\n",
    "\n",
    "\n",
    "# Save metadata (so inference knows how to preprocess)\n",
    "meta = {\n",
    "    \"experiment\": best[\"Experiment\"],\n",
    "    \"params\": best[\"Params\"],\n",
    "    \"model_path\": best_path,\n",
    "    \"preprocessing\": {\"tokenizer\": \"../models/tokenizer.pkl\", \"max_len\": MAX_LEN}\n",
    "}\n",
    "\n",
    "with open(\"../models/final/metadata.json\", \"w\") as f:\n",
    "    json.dump(meta, f, indent=2)\n",
    "\n",
    "print(\"✅ Best model + metadata saved in ../models/final/\")"
   ]
  },
  {
   "cell_type": "code",
   "execution_count": null,
   "id": "b0abffab-b1b3-4480-8277-392ba144b7e7",
   "metadata": {},
   "outputs": [],
   "source": []
  }
 ],
 "metadata": {
  "kernelspec": {
   "display_name": "Python 3 (ipykernel)",
   "language": "python",
   "name": "python3"
  },
  "language_info": {
   "codemirror_mode": {
    "name": "ipython",
    "version": 3
   },
   "file_extension": ".py",
   "mimetype": "text/x-python",
   "name": "python",
   "nbconvert_exporter": "python",
   "pygments_lexer": "ipython3",
   "version": "3.13.5"
  }
 },
 "nbformat": 4,
 "nbformat_minor": 5
}
