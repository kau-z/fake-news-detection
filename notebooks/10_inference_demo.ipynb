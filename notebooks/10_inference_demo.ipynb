{
 "cells": [
  {
   "cell_type": "code",
   "execution_count": 1,
   "id": "4c931ed7-a76b-4750-8b37-d7a9740301c8",
   "metadata": {},
   "outputs": [],
   "source": [
    "import json, joblib\n",
    "import numpy as np\n",
    "from tensorflow.keras.models import load_model\n",
    "from tensorflow.keras.preprocessing.sequence import pad_sequences"
   ]
  },
  {
   "cell_type": "code",
   "execution_count": 2,
   "id": "8e29ced0-21b7-4dca-8ebf-d8fd860df57e",
   "metadata": {},
   "outputs": [
    {
     "name": "stdout",
     "output_type": "stream",
     "text": [
      "Loaded metadata: {'experiment': 4, 'params': {'units': 128, 'dropout': 0.3, 'lr': 0.0005, 'bidirectional': True}, 'model_path': '../models/final/best_lstm_bilstm.h5', 'preprocessing': {'tokenizer': '../models/tokenizer.pkl', 'max_len': 300}}\n"
     ]
    },
    {
     "name": "stderr",
     "output_type": "stream",
     "text": [
      "WARNING:absl:Compiled the loaded model, but the compiled metrics have yet to be built. `model.compile_metrics` will be empty until you train or evaluate the model.\n"
     ]
    }
   ],
   "source": [
    "# Load metadata\n",
    "with open(\"../models/final/metadata.json\") as f:\n",
    "    meta = json.load(f)\n",
    "\n",
    "print(\"Loaded metadata:\", meta)\n",
    "\n",
    "# Load model\n",
    "model = load_model(meta[\"model_path\"])\n",
    "\n",
    "# Load tokenizer\n",
    "tokenizer = joblib.load(meta[\"preprocessing\"][\"tokenizer\"])\n",
    "MAX_LEN = meta[\"preprocessing\"][\"max_len\"]\n"
   ]
  },
  {
   "cell_type": "code",
   "execution_count": 3,
   "id": "be59eb85-e4e0-410b-940f-fdec014ee571",
   "metadata": {},
   "outputs": [],
   "source": [
    "def predict_text(text):\n",
    "    seq = tokenizer.texts_to_sequences([text])\n",
    "    pad = pad_sequences(seq, maxlen=MAX_LEN, padding=\"post\")\n",
    "    prob = model.predict(pad, verbose=0)[0][0]\n",
    "    label = \"Fake\" if prob > 0.5 else \"Real\"\n",
    "    return {\"text\": text, \"label\": label, \"probability_fake\": float(prob)}\n"
   ]
  },
  {
   "cell_type": "code",
   "execution_count": 4,
   "id": "2c0077fe-ee23-45de-b6a2-1160bf03684e",
   "metadata": {},
   "outputs": [
    {
     "name": "stdout",
     "output_type": "stream",
     "text": [
      "{'text': 'Breaking: Scientists discover cure for cancer overnight!', 'label': 'Fake', 'probability_fake': 0.9999691843986511}\n",
      "{'text': 'Government announces new budget policy for 2025.', 'label': 'Fake', 'probability_fake': 0.9999470710754395}\n",
      "{'text': 'Celebrity spotted on Mars with aliens.', 'label': 'Fake', 'probability_fake': 0.9999210238456726}\n"
     ]
    }
   ],
   "source": [
    "examples = [\n",
    "    \"Breaking: Scientists discover cure for cancer overnight!\",\n",
    "    \"Government announces new budget policy for 2025.\",\n",
    "    \"Celebrity spotted on Mars with aliens.\"\n",
    "]\n",
    "\n",
    "for ex in examples:\n",
    "    print(predict_text(ex))\n"
   ]
  },
  {
   "cell_type": "code",
   "execution_count": null,
   "id": "9fd52302-f47f-4aa5-bff7-b2ae0b2bf8b3",
   "metadata": {},
   "outputs": [],
   "source": []
  }
 ],
 "metadata": {
  "kernelspec": {
   "display_name": "Python 3 (ipykernel)",
   "language": "python",
   "name": "python3"
  },
  "language_info": {
   "codemirror_mode": {
    "name": "ipython",
    "version": 3
   },
   "file_extension": ".py",
   "mimetype": "text/x-python",
   "name": "python",
   "nbconvert_exporter": "python",
   "pygments_lexer": "ipython3",
   "version": "3.13.5"
  }
 },
 "nbformat": 4,
 "nbformat_minor": 5
}
